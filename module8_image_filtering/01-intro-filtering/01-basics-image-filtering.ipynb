{
 "cells": [
  {
   "cell_type": "markdown",
   "metadata": {},
   "source": [
    "## Image Filtering and Convolution\n",
    "### Signal Processing Jargon\n",
    "\n",
    "While reading Computer Vision and Machine Learning literature, you will see signal processing jargon that can be intimidating at times. Let us demystify a few of those terms here.\n",
    "\n",
    "+ **Image Patch**: An image patch is simply a small (3x3, 5x5 ...) region of the image centered around a pixel.\n",
    "\n",
    "+ **Low Frequency Information**: An image patch is said to have low frequency information if it is smooth and does not have a lot of texture.\n",
    "+ **High Frequency Information**: An image patch is said to have high frequency information if it has a lot of texture (edges, corners, etc.).\n",
    "+ **Low Pass Filtering**: This essentially image blurring / smoothing. It you blur an image, you smooth out the texture. As the name suggests, low pass filtering lets lower frequency information pass and blocks higher frequency information.\n",
    "+ **High Pass Filtering**: This essentially a sharpening and edge enhancement type of operation. As the name suggests, lowe frequency information is suppressed and high frequency information is preserved in high pass filtering.\n",
    "\n",
    "### What is Image Filtering?\n",
    "\n",
    "**Image Filtering** is a broad term applied to a variety of Image Processing techniques that enhance an image by eliminating unwanted characterisitcs (e.g. noise) and/or improving desired characteristics (e.g. better contrast). **Blurring, edge detection, edge enhancement, and noise removal** are all examples of image filtering.\n",
    "\n",
    "Image filtering is a neighborhood (or local) operation. This means that the pixel value of ar location (x, y) in the output image depends on the pixels in a small neighborhood of location (x, y) in the input image. For example, image filtering using a 3x3 filter (also called a **kerrnel**) would make the output pixel at location (x, y) depends on the input pp=ixels at locations (x, y) and its eight neighbors."
   ]
  }
 ],
 "metadata": {
  "language_info": {
   "name": "python"
  }
 },
 "nbformat": 4,
 "nbformat_minor": 2
}
